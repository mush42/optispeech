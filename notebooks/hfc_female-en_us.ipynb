{
 "cells": [
  {
   "cell_type": "markdown",
   "metadata": {},
   "source": [
    "## OptiSpeech Training: HFC-Female (en-US)\n",
    "This notebook allows you to train [OptiSpeech TTS](https://github.com/mush42/optispeech) on [HiFiCaptin en-US female dataset](https://ast-astrec.nict.go.jp/en/release/hi-fi-captain/)\n"
   ]
  },
  {
   "cell_type": "markdown",
   "metadata": {},
   "source": [
    "## Plumming"
   ]
  },
  {
   "cell_type": "code",
   "execution_count": null,
   "metadata": {
    "vscode": {
     "languageId": "plaintext"
    }
   },
   "outputs": [],
   "source": [
    "#@markdown ### Google Colab Anti-Disconnect\n",
    "#@markdown Avoid automatic disconnection. Still, it will disconnect after **6 to 12 hours**.\n",
    "\n",
    "import IPython\n",
    "js_code = '''\n",
    "function ClickConnect(){\n",
    "console.log(\"Working\");\n",
    "document.querySelector(\"colab-toolbar-button#connect\").click()\n",
    "}\n",
    "setInterval(ClickConnect,60000)\n",
    "'''\n",
    "display(IPython.display.Javascript(js_code))\n",
    "\n",
    "\n",
    "#@markdown ### Check GPU type\n",
    "#@markdown A higher capable GPU can lead to faster training speeds. By default, you will have a **Tesla T4**.\n",
    "!nvidia-smi"
   ]
  },
  {
   "cell_type": "markdown",
   "metadata": {},
   "source": [
    "## Mount Google Drive"
   ]
  },
  {
   "cell_type": "code",
   "execution_count": null,
   "metadata": {
    "vscode": {
     "languageId": "plaintext"
    }
   },
   "outputs": [],
   "source": [
    "from google.colab import drive\n",
    "drive.mount('/content/drive', force_remount=True)"
   ]
  },
  {
   "cell_type": "markdown",
   "metadata": {},
   "source": [
    "## Prepare environment"
   ]
  },
  {
   "cell_type": "code",
   "execution_count": null,
   "metadata": {
    "vscode": {
     "languageId": "plaintext"
    }
   },
   "outputs": [],
   "source": [
    "#@markdown ### Clone OptiSpeech repository\n",
    "\n",
    "import os\n",
    "\n",
    "if not os.path.isdir(os.path.join(os.getcwd(), \"optispeech\")):\n",
    "    print(\"Cloning optispeech repository...\")\n",
    "    !git clone --branch eden-alighn --depth=1 https://github.com/mush42/optispeech\n",
    "\n",
    "#@markdown ### Install system dependencies\n",
    "\n",
    "# Nothing...\n",
    "\n",
    "#@markdown ### Upgrade packages\n",
    "\n",
    "!pip3 install --upgrade pip setuptools wheel\n",
    "\n",
    "#@markdown ### Install OptiSpeech dependencies\n",
    "\n",
    "%cd /content/optispeech\n",
    "!pip3 install -r requirements.txt\n",
    "\n",
    "#@markdown ### Download HiFiGAN checkpoint for use during training\n",
    "\n",
    "%cd /content/\n",
    "!wget https://github.com/shivammehta25/Matcha-TTS-checkpoints/releases/download/v1.0/g_02500000"
   ]
  },
  {
   "cell_type": "markdown",
   "metadata": {},
   "source": [
    "## Preprocess Dataset"
   ]
  },
  {
   "cell_type": "code",
   "execution_count": null,
   "metadata": {
    "vscode": {
     "languageId": "plaintext"
    }
   },
   "outputs": [],
   "source": [
    "%cd /content\n",
    "!unzip -q /content/drive/MyDrive/hfc_female-en_us-dataset.zip\n",
    "%cd /content/optispeech\n",
    "!python3 -m optispeech.tools.preprocess_dataset \\\n",
    "    --format ljspeech \\\n",
    "    hfc_female-en_us \\\n",
    "    /content/hfc_female-en_us-dataset \\\n",
    "    /content/optispeech/data/hfc_female-en_us\n"
   ]
  },
  {
   "cell_type": "markdown",
   "metadata": {},
   "source": [
    "## Enable Tensorboard"
   ]
  },
  {
   "cell_type": "code",
   "execution_count": null,
   "metadata": {
    "vscode": {
     "languageId": "plaintext"
    }
   },
   "outputs": [],
   "source": [
    "# Create log directory\n",
    "!mkdir -p /content/drive/MyDrive/optispeech/logs\n",
    "\n",
    "%load_ext tensorboard\n",
    "%tensorboard --logdir /content/drive/MyDrive/optispeech/logs\n"
   ]
  },
  {
   "cell_type": "markdown",
   "metadata": {},
   "source": [
    "## Start training"
   ]
  },
  {
   "cell_type": "code",
   "execution_count": null,
   "metadata": {
    "vscode": {
     "languageId": "plaintext"
    }
   },
   "outputs": [],
   "source": [
    "%cd /content/optispeech\n",
    "!python3 -m optispeech.train \\\n",
    "    experiment=\"hfc_female-en_us\" \\\n",
    "    model.train_args.hifigan_ckpt=\"/content/g_02500000\" \\\n",
    "    data.train_filelist_path=\"data/hfc_female-en_us/train.txt\" \\\n",
    "    data.valid_filelist_path=\"data/hfc_female-en_us/val.txt\" \\\n",
    "    data.batch_size=64 \\\n",
    "    data.num_workers=2 \\\n",
    "    callbacks.model_checkpoint.every_n_epochs=5 \\\n",
    "    paths.log_dir=\" /content/drive/MyDrive/optispeech/logs\"\n",
    "  "
   ]
  }
 ],
 "metadata": {
  "language_info": {
   "name": "python"
  }
 },
 "nbformat": 4,
 "nbformat_minor": 2
}
